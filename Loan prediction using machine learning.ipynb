{
 "cells": [
  {
   "cell_type": "markdown",
   "metadata": {},
   "source": [
    "## Credit Modelling using Machine Learning"
   ]
  },
  {
   "cell_type": "markdown",
   "metadata": {},
   "source": [
    "In this project, we are going to predict if a borrower will pay off their loan on time or not using **machine learning model**.<br/> We will use the financial lending data from lending club. Lending Club is a marketplace for personal loans that matches <br/>borrowers who are seeking a loan with investors looking to lend money and make a return.  "
   ]
  },
  {
   "cell_type": "code",
   "execution_count": 1,
   "metadata": {},
   "outputs": [],
   "source": [
    "import pandas as pd\n",
    "from sklearn.linear_model import LogisticRegression\n",
    "from sklearn.model_selection import cross_val_predict\n",
    "from sklearn.ensemble import RandomForestClassifier"
   ]
  },
  {
   "cell_type": "code",
   "execution_count": 6,
   "metadata": {},
   "outputs": [],
   "source": [
    "# !pip install -U -q kaggle\n",
    "# !mkdir -p ~/.kaggle\n",
    "# !echo '{\"username\":\"jizabayo\",\"key\":\"7a921bcf29dd2a15c59273bd616bafdf\"}' > ~/.kaggle/kaggle.json\n",
    "# !chmod 600 ~/.kaggle.json\n",
    "\n",
    "# !kaggle datasets download -d wendykan/lending-club-loan-data"
   ]
  },
  {
   "cell_type": "markdown",
   "metadata": {},
   "source": [
    "## Data cleaning"
   ]
  },
  {
   "cell_type": "code",
   "execution_count": null,
   "metadata": {},
   "outputs": [],
   "source": [
    "loans_2007 = pd.read_csv('loans_2007.csv')\n",
    "print(loans_2007.iloc[0])\n",
    "print(len(loans_2007.columns))#viewing the number of columns"
   ]
  },
  {
   "cell_type": "markdown",
   "metadata": {},
   "source": [
    "We now identify the columns to drop which might not be good **features** for the modelling process:<br/>\n",
    "According to dataquest, we might pay attention to features that:\n",
    "<ol>\n",
    "\n",
    "  <li>leak information from the future (after the loan has already been funded) which might cause our model to overfit.</li>\n",
    "  <li>don't affect a borrower's ability to pay back a loan (e.g. a randomly generated ID value by Lending Club).</li>\n",
    "  <li>formatted poorly and need to be cleaned up </li>\n",
    "    <li>require more data or a lot of processing to turn into a useful feature </li>\n",
    "    <li>contain redundant information </li>\n",
    "</ol>\n",
    "\n",
    "For instance funded_amnt would cause data leakage in the future after the loan is already started to be funded.<br/>\n",
    "Thus, we remove several columns using drop function."
   ]
  },
  {
   "cell_type": "code",
   "execution_count": null,
   "metadata": {},
   "outputs": [],
   "source": [
    "loans = loans_2007.drop(columns=['id', 'member_id', 'funded_amnt', 'funded_amnt_inv', 'grade', 'sub_grade', \n",
    "                                 'emp_title', 'issue_d'])"
   ]
  },
  {
   "cell_type": "code",
   "execution_count": null,
   "metadata": {},
   "outputs": [],
   "source": [
    "loans = loans_2007.drop(columns=['zip_code', 'out_prncp', 'out_prncp_inv', 'total_pymnt', 'total_pymnt_inv', 'total_rec_prncp'])"
   ]
  },
  {
   "cell_type": "markdown",
   "metadata": {},
   "source": [
    "According to dataquest The out_prncp column as well as the total_pymnt column describe properties of the loan \n",
    "after it's fully funded and started to be paid off. \n",
    "This information isn't available to an investor before the loan is fully funded and we don't want to include it in our model."
   ]
  },
  {
   "cell_type": "code",
   "execution_count": 10,
   "metadata": {},
   "outputs": [],
   "source": [
    "loans = loans_2007.drop(columns=['total_rec_int', 'total_rec_late_fee', 'recoveries', 'collection_recovery_fee', \n",
    "                                      'last_pymnt_d', 'last_pymnt_amnt'])"
   ]
  },
  {
   "cell_type": "markdown",
   "metadata": {},
   "source": [
    "After removing the features that are not helpful for our modelling, we go on by deciding which target (dependent variable)"
   ]
  },
  {
   "cell_type": "markdown",
   "metadata": {},
   "source": [
    "## Exploratory data analysis"
   ]
  },
  {
   "cell_type": "code",
   "execution_count": null,
   "metadata": {},
   "outputs": [],
   "source": [
    "print(loans_2007['loan_status'].value_counts)#loan status is our dependent variable"
   ]
  },
  {
   "cell_type": "markdown",
   "metadata": {},
   "source": [
    "We can consider this problem as a binary classification because we are interested in knowing which client will pay the loan and \n",
    "and who will not.<br/>\n",
    "Also, we have class imbalance because the status \"paid off\" comes frequently than \"charged off\" which can cause our model to be biased on one class."
   ]
  },
  {
   "cell_type": "code",
   "execution_count": null,
   "metadata": {},
   "outputs": [],
   "source": [
    "#making loan_status variable a 2 class variable\n",
    "loans_2007 = loans_2007[(loans_2007['loan_status'] == \"Fully Paid\") | (loans_2007['loan_status'] == \"Charged Off\")]\n",
    "\n",
    "mapping_dict = {\n",
    "    \"loan_status\": {\n",
    "        \"Fully Paid\": 1,\n",
    "        \"Charged Off\": 0\n",
    "    }\n",
    "}\n",
    "loans_2007 = loans_2007.replace(mapping_dict)"
   ]
  },
  {
   "cell_type": "code",
   "execution_count": null,
   "metadata": {},
   "outputs": [],
   "source": [
    "#dropping column with one unique value\n",
    "drop_columns = []\n",
    "for column in loans_2007.columns:\n",
    "    non_null = loans_2007[column].dropna()\n",
    "    unique_non_null = non_null.unique()\n",
    "    if len(unique_non_null) == 1:\n",
    "        drop_columns.append(column)\n",
    "loans_2007 = loans_2007.drop(drop_columns, axis=1)"
   ]
  },
  {
   "cell_type": "code",
   "execution_count": null,
   "metadata": {},
   "outputs": [],
   "source": [
    "#Handling missing values\n",
    "#loans = pd.read_csv('filtered_loans_2007.csv')\n",
    "null_counts = loans.isnull().sum()\n",
    "print(null_counts[null_counts>0])"
   ]
  },
  {
   "cell_type": "code",
   "execution_count": null,
   "metadata": {},
   "outputs": [],
   "source": [
    "#dropping Nans\n",
    "loans = loans.drop(columns = ['pub_rec_bankruptcies'])\n",
    "loans = loans.dropna()\n",
    "print(loans.dtypes.value_counts())"
   ]
  },
  {
   "cell_type": "code",
   "execution_count": null,
   "metadata": {},
   "outputs": [],
   "source": [
    "#\n",
    "object_columns_df = loans.select_dtypes(include=[\"object\"])"
   ]
  },
  {
   "cell_type": "markdown",
   "metadata": {},
   "source": [
    "### Feature engineering"
   ]
  },
  {
   "cell_type": "code",
   "execution_count": null,
   "metadata": {},
   "outputs": [],
   "source": [
    "#Identifying categorical features to be converted into numerical\n",
    "cols = ['home_ownership', 'verification_status', 'emp_length', 'term', 'addr_state']\n",
    "for colum in cols:\n",
    "    print(loans[colum].value_counts())"
   ]
  },
  {
   "cell_type": "code",
   "execution_count": null,
   "metadata": {},
   "outputs": [],
   "source": [
    "#converting features to numerical\n",
    "mapping_dictionary = {\n",
    "    \"emp_length\": {\n",
    "        \"10+ years\": 10,\n",
    "        \"9 years\": 9,\n",
    "        \"8 years\": 8,\n",
    "        \"7 years\": 7,\n",
    "        \"6 years\": 6,\n",
    "        \"5 years\": 5,\n",
    "        \"4 years\": 4,\n",
    "        \"3 years\": 3,\n",
    "        \"2 years\": 2,\n",
    "        \"1 year\": 1,\n",
    "        \"< 1 year\": 0,\n",
    "        \"n/a\": 0\n",
    "    }\n",
    "}\n",
    "loans = loans.drop([\"last_credit_pull_d\", \"earliest_cr_line\", \"addr_state\", \"title\"], axis=1)\n",
    "loans[\"int_rate\"] = loans[\"int_rate\"].str.rstrip(\"%\").astype(\"float\")\n",
    "loans[\"revol_util\"] = loans[\"revol_util\"].str.rstrip(\"%\").astype(\"float\")\n",
    "loans = loans.replace(mapping_dictionary)"
   ]
  },
  {
   "cell_type": "code",
   "execution_count": null,
   "metadata": {},
   "outputs": [],
   "source": [
    "#Using dummy variables to get numerical values\n",
    "# Returns a new Dataframe containing 1 column for each dummy variable.\n",
    "dummy_df = pd.get_dummies(loans[[\"home_ownership\", \"verification_status\",  \"purpose\", \"term\"]])\n",
    "loans = pd.concat([loans, dummy_df], axis=1)\n",
    "loans = loans.drop([\"home_ownership\", \"verification_status\",  \"purpose\", \"term\"], axis=1)"
   ]
  },
  {
   "cell_type": "markdown",
   "metadata": {},
   "source": [
    "## Modeling and making predictions"
   ]
  },
  {
   "cell_type": "code",
   "execution_count": null,
   "metadata": {},
   "outputs": [],
   "source": [
    "features = loans.drop(loans[\"loan_status\"])\n",
    "target = loans[\"loans_status\"]\n",
    "rf = RandomForestClassifier(class_weight=\"balanced\", random_state=1)\n",
    "predictions = cross_val_predict(rf, features, target, cv=3)\n",
    "predictions = pd.Series(predictions)\n",
    "\n",
    "# False positives.\n",
    "fp_filter = (predictions == 1) & (loans[\"loan_status\"] == 0)\n",
    "fp = len(predictions[fp_filter])\n",
    "\n",
    "# True positives.`\n",
    "tp_filter = (predictions == 1) & (loans[\"loan_status\"] == 1)\n",
    "tp = len(predictions[tp_filter])\n",
    "\n",
    "# False negatives.\n",
    "fn_filter = (predictions == 0) & (loans[\"loan_status\"] == 1)\n",
    "fn = len(predictions[fn_filter])\n",
    "\n",
    "# True negatives\n",
    "tn_filter = (predictions == 0) & (loans[\"loan_status\"] == 0)\n",
    "tn = len(predictions[tn_filter])\n",
    "\n",
    "# Rates\n",
    "tpr = tp / (tp + fn)\n",
    "fpr = fp / (fp + tn)\n",
    "\n",
    "print(tpr)\n",
    "print(fpr)"
   ]
  },
  {
   "cell_type": "code",
   "execution_count": null,
   "metadata": {},
   "outputs": [],
   "source": []
  }
 ],
 "metadata": {
  "kernelspec": {
   "display_name": "Python 3",
   "language": "python",
   "name": "python3"
  },
  "language_info": {
   "codemirror_mode": {
    "name": "ipython",
    "version": 3
   },
   "file_extension": ".py",
   "mimetype": "text/x-python",
   "name": "python",
   "nbconvert_exporter": "python",
   "pygments_lexer": "ipython3",
   "version": "3.6.5"
  }
 },
 "nbformat": 4,
 "nbformat_minor": 2
}
